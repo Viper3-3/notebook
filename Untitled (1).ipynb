{
 "cells": [
  {
   "cell_type": "code",
   "execution_count": 2,
   "id": "39c5a507",
   "metadata": {},
   "outputs": [
    {
     "data": {
      "text/plain": [
       "row_n           0\n",
       "id              1\n",
       "name            0\n",
       "gender          0\n",
       "species         0\n",
       "birthday        0\n",
       "personality     0\n",
       "song           11\n",
       "phrase          0\n",
       "full_id         0\n",
       "url             0\n",
       "dtype: int64"
      ]
     },
     "execution_count": 2,
     "metadata": {},
     "output_type": "execute_result"
    }
   ],
   "source": [
    "import pandas as pd\n",
    "url = \"https://raw.githubusercontent.com/rfordatascience/tidytuesday/master/data/2020/2020-05-05/villagers.csv\"\n",
    "df = pd.read_csv(url)\n",
    "df.isna().sum()"
   ]
  },
  {
   "cell_type": "code",
   "execution_count": 3,
   "id": "e4470af9",
   "metadata": {},
   "outputs": [
    {
     "name": "stdout",
     "output_type": "stream",
     "text": [
      "Number of rows: 391\n",
      "Number of columns: 11\n"
     ]
    }
   ],
   "source": [
    "import pandas as pd\n",
    "\n",
    "# Load the dataset from the URL\n",
    "url = \"https://raw.githubusercontent.com/rfordatascience/tidytuesday/master/data/2020/2020-05-05/villagers.csv\"\n",
    "df = pd.read_csv(url)\n",
    "\n",
    "# Get the shape of the DataFrame\n",
    "rows, columns = df.shape\n",
    "\n",
    "print(f\"Number of rows: {rows}\")\n",
    "print(f\"Number of columns: {columns}\")\n"
   ]
  },
  {
   "cell_type": "code",
   "execution_count": null,
   "id": "ed19f3e7",
   "metadata": {},
   "outputs": [],
   "source": [
    "# 2.2 Observation is the individual items in data which gives information about specific things just like a row in a table.\n",
    "# 2.2 Variable is the characteristics which measuring about each observation just like the columns in a table.\n",
    "\n",
    "# 4 df.shape shows the total size of the dataset in terms of rows and columns including numeric and non-numeric variables.\n",
    "# 4 But df.describe() provides only descriptive statistics for numeric variables. This means that non-numerical variables are ignored\n",
    "# 4 The \"count\" column in df.describe() shows the number of non-missing values in each column.\n",
    "# 4 If missing some values in columns the \"count\" will show the number of rows that have actual data, instead of the total number.\n",
    "\n",
    "# 8.3 ChatBot shows faster and more tailored because it can directly analyze code and provide the fix based on context.\n",
    "# 8.3 Google provides more information, but often need to sift through multiple posts which might take longer time.\n",
    "# 8.3 For simple and common coding errors, ChatBot is generally quicker and more efficient.\n",
    "# 8.3 While Google can be more useful for more complex issues that require explanations.\n",
    "\n",
    "# Here's my link for chatgpt https://chatgpt.com/c/66e22d69-99d0-8008-8e8e-af672dcb4bef"
   ]
  }
 ],
 "metadata": {
  "kernelspec": {
   "display_name": "Python 3 (ipykernel)",
   "language": "python",
   "name": "python3"
  },
  "language_info": {
   "codemirror_mode": {
    "name": "ipython",
    "version": 3
   },
   "file_extension": ".py",
   "mimetype": "text/x-python",
   "name": "python",
   "nbconvert_exporter": "python",
   "pygments_lexer": "ipython3",
   "version": "3.11.6"
  }
 },
 "nbformat": 4,
 "nbformat_minor": 5
}
